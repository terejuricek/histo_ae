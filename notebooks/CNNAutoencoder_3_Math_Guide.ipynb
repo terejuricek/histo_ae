{
 "cells": [
  {
   "cell_type": "markdown",
   "id": "3aca5922",
   "metadata": {},
   "source": [
    "# CNNAutoencoder_3 — Mathematical Study Guide and Reference\n",
    "\n",
    "This notebook is a rigorous, step-by-step mathematical reference for the CNNAutoencoder_3 used for histopathology patch reconstruction ($150\\times150\\times3$). It defines the full pipeline with exact equations, size transitions, receptive field analysis, attention, skip connections, objective functions, and visual flow diagrams."
   ]
  },
  {
   "cell_type": "markdown",
   "id": "77a0d5a8",
   "metadata": {},
   "source": [
    "## 1. Problem Setup and Notation\n",
    "\n",
    "- Input: $x \\in \\mathbb{R}^{C\\times H\\times W}$, with $C=3$, $H=W=150$.\n",
    "- Encoder $h_{\\theta_e}: \\mathbb{R}^{3\\times150\\times150} \\to \\mathbb{R}^{C_z\\times H_z\\times W_z}$.\n",
    "- Decoder $g_{\\theta_d}: \\mathbb{R}^{C_z\\times H_z\\times W_z} \\to \\mathbb{R}^{3\\times150\\times150}$.\n",
    "- Autoencoder: $f_\\theta = g_{\\theta_d} \\circ h_{\\theta_e}$.\n",
    "- Reconstruction: $\\hat{x} = f_\\theta(x)$.\n",
    "\n",
    "Normalization: images are typically normalized as $y = (x - \\mu) / \\sigma$. In this project, $\\mu=(0.5,0.5,0.5)$, $\\sigma=(0.5,0.5,0.5)$, mapping RGB values in $[0,1]$ to $[-1,1]$. The output uses $\\tanh$ to match this range.\n",
    "\n",
    "Objective (multi-term):\n",
    "\n",
    "$\\mathcal{L}(x, \\hat{x}) = \\alpha \\, \\mathcal{L}_{\\text{MSE}}(x, \\hat{x}) + \\beta \\, \\mathcal{L}_{1}(x, \\hat{x}) + \\gamma \\, \\mathcal{L}_{\\text{SSIM}}(x, \\hat{x}) + \\lambda \\, \\Omega(\\theta)$\n",
    "\n",
    "Where $\\Omega(\\theta)$ is weight decay (e.g., $\\sum \\lVert W \\rVert^{2}$)."
   ]
  },
  {
   "cell_type": "markdown",
   "id": "df0380ea",
   "metadata": {},
   "source": [
    "## 2. Convolution and Transposed Convolution — Exact Mathematics\n",
    "\n",
    "### 2.1 2D Convolution (Conv2d)\n",
    "Given $F_{\\text{in}} \\in \\mathbb{R}^{C_{\\text{in}}\\times H\\times W}$, weight $W \\in \\mathbb{R}^{C_{\\text{out}}\\times C_{\\text{in}}\\times k\\times k}$, bias $b \\in \\mathbb{R}^{C_{\\text{out}}}$, stride $s$, padding $p$:\n",
    "\n",
    "$Y[c_{\\text{out}}, i, j] = b[c_{\\text{out}}] + \\sum_{c=0}^{C_{\\text{in}}-1} \\sum_{u=0}^{k-1} \\sum_{v=0}^{k-1} W[c_{\\text{out}},c,u,v] \\cdot F_{\\text{in}}[c, \\, s\\,i + u - p, \\, s\\,j + v - p]$\n",
    "\n",
    "Spatial size:\n",
    "\n",
    "$H_{\\text{out}} = \\left\\lfloor\\frac{H + 2p - k}{s}\\right\\rfloor + 1, \\quad W_{\\text{out}} = \\left\\lfloor\\frac{W + 2p - k}{s}\\right\\rfloor + 1$\n",
    "\n",
    "### 2.2 Transposed Convolution (ConvTranspose2d)\n",
    "Given $X \\in \\mathbb{R}^{C_{\\text{in}}\\times H\\times W}$, $W \\in \\mathbb{R}^{C_{\\text{in}}\\times C_{\\text{out}}\\times k\\times k}$, stride $s$, padding $p$, output\\_padding $op$:\n",
    "\n",
    "$H_{\\text{out}} = (H - 1)\\,s - 2p + k + op, \\quad W_{\\text{out}} = (W - 1)\\,s - 2p + k + op$\n",
    "\n",
    "This inverts downsampling (approximately) from the encoder."
   ]
  },
  {
   "cell_type": "markdown",
   "id": "8965cbfc",
   "metadata": {},
   "source": [
    "## 3. Normalization and Activations\n",
    "\n",
    "### 3.1 Batch Normalization (per channel)\n",
    "$\\mathrm{BN}(a) = \\gamma \\cdot \\frac{a - \\mu}{\\sqrt{\\sigma^{2} + \\varepsilon}} + \\beta$\n",
    "\n",
    "where $\\mu,\\sigma^{2}$ are batch estimates, and $\\gamma,\\beta$ are learnable affine parameters.\n",
    "\n",
    "### 3.2 GELU Activation\n",
    "$\\mathrm{GELU}(x) = x \\cdot \\Phi(x) = x \\cdot \\tfrac{1}{2} \\cdot (1 + \\operatorname{erf}(x/\\sqrt{2}))$\n",
    "\n",
    "Smooth, non-monotonic; empirically stabilizes and improves training.\n",
    "\n",
    "### 3.3 Tanh Output\n",
    "$\\tanh(x) = \\frac{e^{x} - e^{-x}}{e^{x} + e^{-x}}$, range $(-1,1)$.\n",
    "\n",
    "Matches normalized image range when inputs are scaled to $[-1,1]$. "
   ]
  },
  {
   "cell_type": "markdown",
   "id": "0d328df6",
   "metadata": {},
   "source": [
    "## 4. Channel Attention (Squeeze-and-Excitation style)\n",
    "\n",
    "Input $F \\in \\mathbb{R}^{C\\times H\\times W}$.\n",
    "\n",
    "1) Squeeze:\n",
    "$z^{\\mathrm{avg}}_{c} = \\frac{1}{H\\,W} \\sum_{i=1}^{H} \\sum_{j=1}^{W} F[c,i,j], \\quad z^{\\mathrm{max}}_{c} = \\max_{i,j} F[c,i,j]$\n",
    "\n",
    "2) Excitation (two $1\\times1$ convs as an MLP) with reduction $r=16$:\n",
    "$s^{\\mathrm{avg}} = \\sigma(W_{2}\\, \\delta(W_{1} \\, z^{\\mathrm{avg}})), \\quad s^{\\mathrm{max}} = \\sigma(W_{2}\\, \\delta(W_{1} \\, z^{\\mathrm{max}}))$\n",
    "\n",
    "$s = \\sigma(s^{\\mathrm{avg}} + s^{\\mathrm{max}}) \\in (0,1)^{C}$\n",
    "\n",
    "Here $W_{1} \\in \\mathbb{R}^{C/r \\times C}$, $W_{2} \\in \\mathbb{R}^{C \\times C/r}$, $\\delta = \\mathrm{ReLU}$, $\\sigma = \\mathrm{sigmoid}$.\n",
    "\n",
    "3) Scale:\n",
    "$\\tilde{F}[c,i,j] = s_{c} \\cdot F[c,i,j]$\n",
    "\n",
    "This reweights channels by learned importance, improving SNR and feature selection."
   ]
  },
  {
   "cell_type": "markdown",
   "id": "3c53c5b3",
   "metadata": {},
   "source": [
    "## 5. CNNAutoencoder_3 — Encoder Specification (Layer-by-Layer)\n",
    "\n",
    "Assumed blocks (consistent with stride-2, $k=3$, $p=1$ convs) to process $150\\times150$ inputs:\n",
    "\n",
    "- E1: $\\mathrm{Conv2d}(3\\to64,\\, k=3,\\, s=2,\\, p=1) \\to \\mathrm{BN} \\to \\mathrm{GELU} \\to \\mathrm{ChannelAttention}(64)$\n",
    "  - Size: $150 \\to H_{1} = \\left\\lfloor\\tfrac{150+2-3}{2}\\right\\rfloor + 1 = 75 \\Rightarrow [64\\times75\\times75]$\n",
    "- E2: $\\mathrm{Conv2d}(64\\to128,\\, k=3,\\, s=2,\\, p=1) \\to \\mathrm{BN} \\to \\mathrm{GELU} \\to (\\mathrm{Dropout}) \\to \\mathrm{ChannelAttention}(128)$\n",
    "  - Size: $75 \\to H_{2} = \\left\\lfloor\\tfrac{75+2-3}{2}\\right\\rfloor + 1 = 38 \\Rightarrow [128\\times38\\times38]$\n",
    "- E3: $\\mathrm{Conv2d}(128\\to256,\\, k=3,\\, s=2,\\, p=1) \\to \\mathrm{BN} \\to \\mathrm{GELU} \\to (\\mathrm{Dropout}) \\to \\mathrm{ChannelAttention}(256)$\n",
    "  - Size: $38 \\to H_{3} = \\left\\lfloor\\tfrac{38+2-3}{2}\\right\\rfloor + 1 = 19 \\Rightarrow [256\\times19\\times19]$\n",
    "- E4: $\\mathrm{Conv2d}(256\\to256,\\, k=3,\\, s=2,\\, p=1) \\to \\mathrm{BN} \\to \\mathrm{GELU}$\n",
    "  - Size: $19 \\to H_{4} = \\left\\lfloor\\tfrac{19+2-3}{2}\\right\\rfloor + 1 = 10 \\Rightarrow$ bottleneck $Z \\in [256\\times10\\times10]$\n",
    "\n",
    "Bottleneck dimensionality: $10\\times10\\times256 = 25{,}600$. "
   ]
  },
  {
   "cell_type": "markdown",
   "id": "c511a7d0",
   "metadata": {},
   "source": [
    "## 6. CNNAutoencoder_3 — Decoder with Skips (Layer-by-Layer)\n",
    "\n",
    "We upsample using $\\mathrm{ConvTranspose2d}(k=3,\\, s=2,\\, p=1,\\, op=1)$, align encoder features via bilinear Resize, then concatenate and fuse with $\\mathrm{Conv}+\\mathrm{BN}+\\mathrm{GELU}$.\n",
    "\n",
    "- D1: $U_{1} = \\mathrm{ConvT}(Z): \\; 10\\to20,\\; 256\\to256 \\;\\Rightarrow\\; \\widetilde{E}_{3}=\\mathrm{Resize}(E_{3}:19\\to20) \\;\\Rightarrow\\; [U_{1}; \\widetilde{E}_{3}]\\in[512\\times20\\times20] \\;\\Rightarrow\\; \\mathrm{Conv}(512\\to256)+\\mathrm{BN}+\\mathrm{GELU} = D_{1}$\n",
    "- D2: $U_{2} = \\mathrm{ConvT}(D_{1}): \\; 20\\to40,\\; 256\\to128 \\;\\Rightarrow\\; \\widetilde{E}_{2}:38\\to40 \\;\\Rightarrow\\; [U_{2}; \\widetilde{E}_{2}]\\in[256\\times40\\times40] \\;\\Rightarrow\\; \\mathrm{Conv}(256\\to128)+\\mathrm{BN}+\\mathrm{GELU} = D_{2}$\n",
    "- D3: $U_{3} = \\mathrm{ConvT}(D_{2}): \\; 40\\to80,\\; 128\\to64 \\;\\Rightarrow\\; \\widetilde{E}_{1}:75\\to80 \\;\\Rightarrow\\; [U_{3}; \\widetilde{E}_{1}]\\in[128\\times80\\times80] \\;\\Rightarrow\\; \\mathrm{Conv}(128\\to64)+\\mathrm{BN}+\\mathrm{GELU} = D_{3}$\n",
    "- D4: $U_{4} = \\mathrm{ConvT}(D_{3}): \\; 80\\to160,\\; 64\\to32 \\;\\Rightarrow\\; \\mathrm{Conv}(32\\to3,\\, k=3,\\, s=1,\\, p=1) \\;\\Rightarrow\\; \\tanh = R \\in [3\\times160\\times160]$\n",
    "\n",
    "Final size correction (GPU-friendly, differentiable):\n",
    "\n",
    "$\\hat{x} = \\mathrm{Interpolate}(R,\\; \\text{size}=(150,150),\\; \\text{mode}=\\text{bilinear},\\; \\text{align\\_corners}=\\text{False})$\n",
    "\n",
    "This ensures exact output size even with odd input dimensions and stride-2 operations."
   ]
  },
  {
   "cell_type": "code",
   "execution_count": 4,
   "id": "35ffe327",
   "metadata": {},
   "outputs": [
    {
     "name": "stdout",
     "output_type": "stream",
     "text": [
      "Encoder sizes: 150 -> 75 -> 38 -> 19 -> 10\n",
      "Decoder sizes:  10 -> 20 -> 40 -> 80 -> 160\n",
      "Final interpolation from 160 to 150.\n"
     ]
    }
   ],
   "source": [
    "# 7. Shape and Size Tracker — exact integer arithmetic for all layers\n",
    "\n",
    "import math\n",
    "\n",
    "def conv2d_out(h, k=3, s=2, p=1):\n",
    "    return (h + 2*p - k)//s + 1\n",
    "\n",
    "def convt2d_out(h, k=3, s=2, p=1, op=1):\n",
    "    return (h - 1)*s - 2*p + k + op\n",
    "\n",
    "# Encoder sizes\n",
    "H = 150\n",
    "H1 = conv2d_out(H)   # 150 -> 75\n",
    "H2 = conv2d_out(H1)  # 75  -> 38\n",
    "H3 = conv2d_out(H2)  # 38  -> 19\n",
    "H4 = conv2d_out(H3)  # 19  -> 10 (bottleneck)\n",
    "\n",
    "# Decoder sizes (transposed convs)\n",
    "U1 = convt2d_out(H4) # 10 -> 20\n",
    "U2 = convt2d_out(U1) # 20 -> 40\n",
    "U3 = convt2d_out(U2) # 40 -> 80\n",
    "U4 = convt2d_out(U3) # 80 -> 160\n",
    "\n",
    "print('Encoder sizes: 150 ->', H1, '->', H2, '->', H3, '->', H4)\n",
    "print('Decoder sizes: ', H4, '->', U1, '->', U2, '->', U3, '->', U4)\n",
    "print('Final interpolation from', U4, 'to 150.')"
   ]
  },
  {
   "cell_type": "markdown",
   "id": "1c3b0844",
   "metadata": {},
   "source": [
    "## 8. Receptive Field (RF) Derivation\n",
    "\n",
    "For a stack of layers with kernel sizes $k_i$, strides $s_i$, paddings $p_i$, define the jump $j_i$ and receptive field $r_i$ as:\n",
    "\n",
    "- $j_{0} = 1$, $r_{0} = 1$\n",
    "- After a Conv/ConvT layer $i$:\n",
    "  - $j_{i} = j_{i-1} \\cdot s_{i}$\n",
    "  - $r_{i} = r_{i-1} + (k_{i} - 1) \\cdot j_{i-1}$\n",
    "\n",
    "For our encoder with $k=3$, $s=2$ each block, RF grows as:\n",
    "- Layer 1: $r_{1} = 1 + (3-1)\\cdot1 = 3$, $j_{1}=2$\n",
    "- Layer 2: $r_{2} = 3 + 2\\cdot2 = 7$, $j_{2}=4$\n",
    "- Layer 3: $r_{3} = 7 + 2\\cdot4 = 15$, $j_{3}=8$\n",
    "- Layer 4: $r_{4} = 15 + 2\\cdot8 = 31$, $j_{4}=16$\n",
    "\n",
    "Thus each bottleneck unit (in $Z$) sees a $31\\times31$ region in the input."
   ]
  },
  {
   "cell_type": "code",
   "execution_count": 2,
   "id": "ca4e0727",
   "metadata": {},
   "outputs": [
    {
     "name": "stdout",
     "output_type": "stream",
     "text": [
      "RF, jump per layer: [(3, 2), (7, 4), (15, 8), (31, 16)]\n"
     ]
    }
   ],
   "source": [
    "# 9. Receptive Field calculator for the encoder\n",
    "\n",
    "def rf_run(ks, ss):\n",
    "    r, j = 1, 1\n",
    "    out = []\n",
    "    for k, s in zip(ks, ss):\n",
    "        r = r + (k - 1) * j\n",
    "        j = j * s\n",
    "        out.append((r, j))\n",
    "    return out\n",
    "\n",
    "ks = [3,3,3,3]\n",
    "ss = [2,2,2,2]\n",
    "print('RF, jump per layer:', rf_run(ks, ss))"
   ]
  },
  {
   "cell_type": "markdown",
   "id": "0e449b84",
   "metadata": {},
   "source": [
    "## 10. Skip Connections — Mathematical Fusion\n",
    "\n",
    "Let $E_i$ be encoder features at scale $i$ and $D_i$ be decoder features. With a resize operator $\\mathcal{R}$ to match spatial size:\n",
    "\n",
    "$D_{1} = \\varphi_{1}(\\, [\\, U_{1} ; \\mathcal{R}(E_{3}) \\,] \\,), \\quad D_{2} = \\varphi_{2}(\\, [\\, U_{2} ; \\mathcal{R}(E_{2}) \\,] \\,), \\quad D_{3} = \\varphi_{3}(\\, [\\, U_{3} ; \\mathcal{R}(E_{1}) \\,] \\,)$\n",
    "\n",
    "where $[\\cdot;\\cdot]$ denotes channel-wise concatenation and $\\varphi_i$ is $\\mathrm{Conv}+\\mathrm{BN}+\\mathrm{GELU}$. This preserves fine details and improves gradient flow."
   ]
  },
  {
   "cell_type": "markdown",
   "id": "bf223bc3",
   "metadata": {},
   "source": [
    "## 11. Objective Functions — Exact Forms\n",
    "\n",
    "- Mean Squared Error (MSE): $\\mathcal{L}_{\\mathrm{MSE}} = \\frac{1}{C\\,H\\,W} \\sum_{c,i,j} (x[c,i,j] - \\hat{x}[c,i,j])^{2}$\n",
    "- L1 Loss: $\\mathcal{L}_{1} = \\frac{1}{C\\,H\\,W} \\sum_{c,i,j} \\lvert x[c,i,j] - \\hat{x}[c,i,j] \\rvert$\n",
    "- SSIM (windowed): $\\mathrm{SSIM}(x,y) = \\frac{(2 \\, \\mu_{x} \\, \\mu_{y} + C_{1})(2 \\, \\sigma_{xy} + C_{2})}{(\\mu_{x}^{2} + \\mu_{y}^{2} + C_{1})(\\sigma_{x}^{2} + \\sigma_{y}^{2} + C_{2})}$\n",
    "\n",
    "Total: $\\mathcal{L} = \\alpha\\,\\mathcal{L}_{\\mathrm{MSE}} + \\beta\\,\\mathcal{L}_{1} + \\gamma\\,(1 - \\mathrm{SSIM}) + \\lambda\\,\\Omega(\\theta)$."
   ]
  },
  {
   "cell_type": "markdown",
   "id": "ceca03aa",
   "metadata": {},
   "source": [
    "## 12. Backpropagation Notes\n",
    "\n",
    "- Convolution: gradients are cross-correlations of upstream gradients with input patches.\n",
    "- BN: gradients through normalization and affine parameters (γ,β).\n",
    "- GELU: d/dx GELU(x) = Φ(x) + x·ϕ(x), with ϕ the standard normal pdf.\n",
    "- Attention: gradients flow through the MLP and sigmoid to scaling s.\n",
    "- Interpolation: bilinear is piecewise polynomial and differentiable almost everywhere."
   ]
  },
  {
   "cell_type": "code",
   "execution_count": 9,
   "id": "f09edc68",
   "metadata": {},
   "outputs": [
    {
     "ename": "NameError",
     "evalue": "name 'narrow' is not defined",
     "output_type": "error",
     "traceback": [
      "\u001b[31m---------------------------------------------------------------------------\u001b[39m",
      "\u001b[31mNameError\u001b[39m                                 Traceback (most recent call last)",
      "\u001b[36mCell\u001b[39m\u001b[36m \u001b[39m\u001b[32mIn[9]\u001b[39m\u001b[32m, line 61\u001b[39m\n\u001b[32m     59\u001b[39m \u001b[38;5;66;03m# Skip arrows (schematic)\u001b[39;00m\n\u001b[32m     60\u001b[39m arrow(ax, (\u001b[32m1.4\u001b[39m, \u001b[32m1.4\u001b[39m), (\u001b[32m4.0\u001b[39m, \u001b[32m0.6\u001b[39m))   \u001b[38;5;66;03m# E3 -> D1\u001b[39;00m\n\u001b[32m---> \u001b[39m\u001b[32m61\u001b[39m \u001b[43mnarrow\u001b[49m(ax, (\u001b[32m1.4\u001b[39m, \u001b[32m2.2\u001b[39m), (\u001b[32m6.0\u001b[39m, \u001b[32m0.6\u001b[39m))   \u001b[38;5;66;03m# E2 -> D2\u001b[39;00m\n\u001b[32m     62\u001b[39m narrow(ax, (\u001b[32m1.4\u001b[39m, \u001b[32m3.0\u001b[39m), (\u001b[32m8.0\u001b[39m, \u001b[32m0.6\u001b[39m))   \u001b[38;5;66;03m# E1 -> D3\u001b[39;00m\n\u001b[32m     64\u001b[39m plt.tight_layout()\n",
      "\u001b[31mNameError\u001b[39m: name 'narrow' is not defined"
     ]
    },
    {
     "data": {
      "image/png": "[encoded data removed]",
      "text/plain": [
       "<Figure size 1200x600 with 1 Axes>"
      ]
     },
     "metadata": {},
     "output_type": "display_data"
    }
   ],
   "source": [
    "# 13. Flowchart Visualization with matplotlib\n",
    "\n",
    "import matplotlib as mpl\n",
    "import matplotlib.pyplot as plt\n",
    "from matplotlib.patches import FancyBboxPatch\n",
    "\n",
    "# Force white backgrounds regardless of global style\n",
    "mpl.rcParams['figure.facecolor'] = 'white'\n",
    "mpl.rcParams['axes.facecolor'] = 'white'\n",
    "mpl.rcParams['savefig.facecolor'] = 'white'\n",
    "\n",
    "\n",
    "def box(ax, xy, text, fc='#eceff4', ec='#4c566a', text_color='#2e3440'):\n",
    "    x, y = xy\n",
    "    w, h = 1.8, 0.6\n",
    "    rect = FancyBboxPatch((x, y), w, h, boxstyle='round,pad=0.02', fc=fc, ec=ec)\n",
    "    ax.add_patch(rect)\n",
    "    ax.text(x + w / 2, y + h / 2, text, ha='center', va='center', fontsize=10, color=text_color)\n",
    "    return (x + w / 2, y + h)\n",
    "\n",
    "\n",
    "def arrow(ax, p1, p2, color='#4c566a'):\n",
    "    ax.annotate('', xy=p2, xytext=p1, arrowprops=dict(arrowstyle='->', lw=1.5, color=color))\n",
    "\n",
    "\n",
    "fig, ax = plt.subplots(figsize=(12, 6), facecolor='white')\n",
    "ax.set_facecolor('white')\n",
    "ax.axis('off')\n",
    "\n",
    "# Keep everything within explicit limits so nothing is clipped\n",
    "ax.set_xlim(0.0, 12.5)\n",
    "ax.set_ylim(0.0, 4.5)\n",
    "\n",
    "# Encoder chain\n",
    "c1 = box(ax, (0.5, 3.5), 'Input\\n3×150×150')\n",
    "c2 = box(ax, (0.5, 2.7), 'E1: Conv s=2\\n64×75×75 + Attn')\n",
    "c3 = box(ax, (0.5, 1.9), 'E2: Conv s=2\\n128×38×38 + Attn')\n",
    "c4 = box(ax, (0.5, 1.1), 'E3: Conv s=2\\n256×19×19 + Attn')\n",
    "c5 = box(ax, (0.5, 0.3), 'E4: Conv s=2\\n256×10×10 (Z)')\n",
    "arrow(ax, (1.4, 3.5), (1.4, 3.3))\n",
    "arrow(ax, (1.4, 2.7), (1.4, 2.5))\n",
    "arrow(ax, (1.4, 1.9), (1.4, 1.7))\n",
    "arrow(ax, (1.4, 1.1), (1.4, 0.9))\n",
    "\n",
    "# Decoder chain\n",
    "d1 = box(ax, (4.0, 0.3), 'D1: ConvT s=2\\n256×20×20')\n",
    "d2 = box(ax, (6.0, 0.3), 'D2: ConvT s=2\\n128×40×40')\n",
    "d3 = box(ax, (8.0, 0.3), 'D3: ConvT s=2\\n64×80×80')\n",
    "d4 = box(ax, (10.0, 0.3), 'D4: ConvT s=2\\n32×160×160 → Conv→tanh')\n",
    "out = box(ax, (10.0, 1.1), 'Interpolate\\n3×150×150')\n",
    "\n",
    "# Main arrows\n",
    "arrow(ax, (2.3, 0.6), (4.0, 0.6))\n",
    "arrow(ax, (5.8, 0.6), (6.0, 0.6))\n",
    "arrow(ax, (7.8, 0.6), (8.0, 0.6))\n",
    "arrow(ax, (9.8, 0.6), (10.0, 0.6))\n",
    "arrow(ax, (10.9, 0.9), (10.9, 1.1))\n",
    "\n",
    "# Skip arrows (schematic)\n",
    "arrow(ax, (1.4, 1.4), (4.0, 0.6))   # E3 -> D1\n",
    "narrow(ax, (1.4, 2.2), (6.0, 0.6))   # E2 -> D2\n",
    "narrow(ax, (1.4, 3.0), (8.0, 0.6))   # E1 -> D3\n",
    "\n",
    "plt.tight_layout()\n",
    "plt.show()"
   ]
  },
  {
   "cell_type": "markdown",
   "id": "b0b7183b",
   "metadata": {},
   "source": [
    "## 15. Practical Notes\n",
    "\n",
    "- Use RGB normalization mean = $(0.5, 0.5, 0.5)$, std = $(0.5, 0.5, 0.5)$.\n",
    "- Output $\\tanh$ to match $[-1,1]$.\n",
    "- Learning rate scheduling (e.g., ReduceLROnPlateau) helps convergence.\n",
    "- Interpolate to exact $(150,150)$ to handle odd dimensions with stride-2 pyramids.\n",
    "- Channel attention boosts relevant features; skips preserve edges and textures."
   ]
  },
  {
   "cell_type": "markdown",
   "id": "a359575f",
   "metadata": {},
   "source": [
    "## 15. Practical Notes\n",
    "\n",
    "- Use RGB normalization mean=(0.5,0.5,0.5), std=(0.5,0.5,0.5).\n",
    "- Output tanh to match [−1,1].\n",
    "- Learning rate scheduling (e.g., ReduceLROnPlateau) helps convergence.\n",
    "- Interpolate to exact (150,150) to handle odd dimensions with stride-2 pyramids.\n",
    "- Channel attention boosts relevant features; skips preserve edges and textures."
   ]
  }
 ],
 "metadata": {
  "kernelspec": {
   "display_name": "Python 3.11 (torch)",
   "language": "python",
   "name": "python311_torch"
  },
  "language_info": {
   "codemirror_mode": {
    "name": "ipython",
    "version": 3
   },
   "file_extension": ".py",
   "mimetype": "text/x-python",
   "name": "python",
   "nbconvert_exporter": "python",
   "pygments_lexer": "ipython3",
   "version": "3.11.2"
  }
 },
 "nbformat": 4,
 "nbformat_minor": 5
}
